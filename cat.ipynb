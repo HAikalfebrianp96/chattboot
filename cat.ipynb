{
  "nbformat": 4,
  "nbformat_minor": 0,
  "metadata": {
    "colab": {
      "provenance": []
    },
    "kernelspec": {
      "name": "python3",
      "display_name": "Python 3"
    },
    "language_info": {
      "name": "python"
    }
  },
  "cells": [
    {
      "cell_type": "code",
      "execution_count": null,
      "metadata": {
        "id": "cc2dPKzePWox",
        "colab": {
          "base_uri": "https://localhost:8080/"
        },
        "outputId": "cc416ac5-748b-46ab-942b-8cf2ed503e66"
      },
      "outputs": [
        {
          "output_type": "stream",
          "name": "stdout",
          "text": [
            "bauran pemasaran •  produk •  harga  distribusi •  jasa •  ritel  manajemen merek  pemasaran berbasis akuntan  etika pemasaran  efektivitas pemasaran  riset pasar  segmentasi pasar  strategi pemasaran  manajemen pemasaran dominasi pasar sistem informasi pemasaran\n",
            "iklan •  merek •  underwriting\n",
            "pemasaran langsung •  penjualan\n",
            "penempatan produk •  publikasi \n",
            "promosi penjualan •  pemasaran loyalis • \n",
            "premium •  hadiah\n",
            "kanvasing\n",
            "percetakan •  publikasi  penyiaran •  \n",
            "out-of-home  pemasaran internet • \n",
            "point of sale  barang promosi \n",
            "pemasaran digital •  in-game \n",
            "demo produk  pemasaran dari mulut ke mulut  duta merek •  drip marketing\n",
            "pemasaran (bahasa inggris: marketing) adalah aktivitas dan proses menciptakan, mengomunikasikan, menyampaikan, dan mempertukarkan tawaran yang bernilai bagi pelanggan, klien, mitra, dan masyarakat umum.[1]\n",
            "pemasaran dimulai dengan pemenuhan kebutuhan manusia yang kemudian bertumbuh menjadi keinginan manusia. contohnya, seorang manusia membutuhkan air dalam memenuhi kebutuhan dahaganya. jika ada segelas air maka kebutuhan dahaganya akan terpenuhi. namun manusia tidak hanya ingin memenuhi kebutuhannya namun juga ingin memenuhi keinginannya.\n",
            "proses dalam pemenuhan kebutuhan dan keinginan manusia inilah yang menjadi konsep pemasaran. mulai dari pemenuhan produk, penetapan harga, pengiriman barang, dan mempromosikan barang. seseorang yang bekerja dibidang pemasaran disebut pemasar. pemasar ini sebaiknya memiliki pengetahuan dalam konsep dan prinsip pemasaran agar kegiatan pemasaran dapat tercapai sesuai dengan kebutuhan dan keinginan manusia terutama pihak konsumen yang dituju.\n",
            "konsep pemasaran atau marketing menurut pengertiannya adalah segala kegiatan perusahaan untuk menawarkan produk. dalam praktiknya, perusahaan harus mampu menyesuaikan produknya dengan keunggulan pasar.[2]\n",
            "strategi pemasaran merupakan hal yang sangat penting bagi perusahaan di mana strategi pemasaran merupakan suatu cara mencapai tujuan dari sebuah perusahaan, karena potensi untuk menjual proposisi terbatas pada jumlah orang yang mengetahui hal tersebut. hal ini juga didukung oleh pendapat swastha “strategi adalah serangkaian rancangan besar yang menggambarkan bagaimana sebuah perusahaan harus beroperasi untuk mencapai tujuannya.”[3] sehingga dalam menjalankan usaha kecil khususnya diperlukan adanya pengembangan melalui strategi pemasarannya. karena pada saat kondisi kritis justru usaha kecillah yang mampu memberikan pertumbuhan terhadap pendapatan masyarakat. pemasaran menurut w. y. stanton pemasaran ialah sesuatu yang mencakup seluruh sistem yang bersangkutan dengan destinasi untuk merencanakan dan menilai harga hingga dengan mempromosikan dan menyalurkan barang dan jasa yang dapat memuaskan keperluan pembeli aktual maupun potensial.[butuh rujukan]\n",
            "berdasarkan definisi di atas, proses pemasaran dimulai dari menemukan apa yang diinginkan oleh konsumen. yang akhirnya pemasaran memiliki tujuan yaitu:\n",
            "pada umumnya kegiatan pemasaran berkaitan dengan koordinasi beberapa kegiatan bisnis. strategi pemasaran ini dipengaruhi oleh faktor-faktor sebagai berikut:\n",
            "berikut ini adalah hal-hal yang perlu diperhatikan untuk pemasaran:\n",
            "dari sudut pandang penjual:\n",
            "dari sudut pandang konsumen:\n",
            "dari apa yang sudah dibahas di atas ada beberapa hal yang dapat disimpulkan, bahwa pembuatan produk atau jasa yang diinginkan oleh konsumen harus menjadi fokus kegiatan operasional maupun perencanaan suatu perusahaan. pemasaran yang berkesinambungan harus adanya koordinasi yang baik dengan berbagai departemen (tidak hanya di bagian pemasaran saja), sehingga dapat menciptakan sinergi di dalam upaya melakukan kegiatan pemasaran.\n",
            "pemasaran pada praktiknya sudah ada sejak zaman peradaban kuno.[4] bangsa yunani kuno dan romawi telah mempraktikan ilmu dagang dan secara aktif berkomunikasi persuasif kepada konsumennya.[4] begitu pula di peradaban-peradaban lain yang maju perdagangannya.[4]\n",
            "namun, konsep pemasaran modern yang dikenal saat ini baru muncul dan berkembang pada masa revolusi industri yang terjadi pada abad ke-18 dan ke-19.[4] periode ini ditandai dengan munculnya perubahan-perubahan sosial yang didorong oleh perkembangan teknologi dan inovasi ilmu pengetahuan.[4] salah satu perubahan tersebut adalah munculnya industri-industri yang memproduksi barang konsumsi secara massa.[4] hal ini didukung pula oleh perkembangan moda transportasi dan munculnya media massa yang mengharuskan produsen menemukan cara mengelola distribusi barang dan jasa.[4]\n",
            "pada masa revolusi industri, barang-barang konsumsi masih tergolong langka dan produsen bisa menjual hampir semua barang yang mereka produksi selama konsumen mampu membelinya.[4] karena itu, mereka fokus ke arah pengembangan produksi dan distribusi dengan berusaha menekan biaya sekecil-kecilnya.[4] ini juga berpengaruh terhadap perkembangan ilmu pemasaran kala itu, yang terkonsentrasi pada efisiensi biaya distribusi dan pembukaan pasar baru.[4]\n",
            "sejak awal abad ke-20 hingga beberapa tahun pasca perang dunia ii, kompetisi bisnis semakin meningkat dan fokus ilmu pemasaran mulai pindah dari fokus produksi ke fokus penjualan.[4] ilmu komunikasi, periklanan, dan merek mulai menjadi penting saat perusahaan berusaha menjual sebanyak-banyaknya barang di pasar yang sudah semakin ramai.[4]\n",
            "\n",
            "\n",
            "\n",
            "\n"
          ]
        }
      ],
      "source": [
        "import bs4 as bs\n",
        "import urllib.request\n",
        "\n",
        "cat_data = urllib.request.urlopen('https://id.wikipedia.org/wiki/Pemasaran#:~:text=Pemasaran%20(bahasa%20Inggris%3A%20marketing),%2C%20mitra%2C%20dan%20masyarakat%20umum').read()\n",
        "\n",
        "cat_data_paragraphs  = bs.BeautifulSoup(cat_data,'lxml').find_all('p')\n",
        "\n",
        "cat_text = ''\n",
        "\n",
        "for p in cat_data_paragraphs:\n",
        "    cat_text += p.text.lower()\n",
        "print(cat_text)"
      ]
    },
    {
      "cell_type": "code",
      "source": [
        "import re\n",
        "cat_text = re.sub(r'\\s+', ' ',re.sub(r'\\[[0-9]*\\]', ' ', cat_text))"
      ],
      "metadata": {
        "id": "-q4U5SRNPioI"
      },
      "execution_count": null,
      "outputs": []
    },
    {
      "cell_type": "code",
      "source": [
        "!pip install nltk"
      ],
      "metadata": {
        "id": "qH0cwHP9P3hB",
        "colab": {
          "base_uri": "https://localhost:8080/"
        },
        "outputId": "9c662709-3e32-4faa-dd2d-6ec678dace26"
      },
      "execution_count": null,
      "outputs": [
        {
          "output_type": "stream",
          "name": "stdout",
          "text": [
            "Looking in indexes: https://pypi.org/simple, https://us-python.pkg.dev/colab-wheels/public/simple/\n",
            "Requirement already satisfied: nltk in /usr/local/lib/python3.9/dist-packages (3.8.1)\n",
            "Requirement already satisfied: regex>=2021.8.3 in /usr/local/lib/python3.9/dist-packages (from nltk) (2022.10.31)\n",
            "Requirement already satisfied: click in /usr/local/lib/python3.9/dist-packages (from nltk) (8.1.3)\n",
            "Requirement already satisfied: joblib in /usr/local/lib/python3.9/dist-packages (from nltk) (1.2.0)\n",
            "Requirement already satisfied: tqdm in /usr/local/lib/python3.9/dist-packages (from nltk) (4.65.0)\n"
          ]
        }
      ]
    },
    {
      "cell_type": "code",
      "source": [
        "import nltk"
      ],
      "metadata": {
        "id": "NFh3V5HTQDIv"
      },
      "execution_count": null,
      "outputs": []
    },
    {
      "cell_type": "code",
      "source": [
        "nltk.download('punkt')"
      ],
      "metadata": {
        "id": "VxxB6DqRQIKW",
        "colab": {
          "base_uri": "https://localhost:8080/"
        },
        "outputId": "e310202a-73c2-4e74-f3b9-547ea32067f0"
      },
      "execution_count": null,
      "outputs": [
        {
          "output_type": "stream",
          "name": "stderr",
          "text": [
            "[nltk_data] Downloading package punkt to /root/nltk_data...\n",
            "[nltk_data]   Unzipping tokenizers/punkt.zip.\n"
          ]
        },
        {
          "output_type": "execute_result",
          "data": {
            "text/plain": [
              "True"
            ]
          },
          "metadata": {},
          "execution_count": 5
        }
      ]
    },
    {
      "cell_type": "code",
      "source": [
        "import nltk\n",
        "cat_s = nltk.sent_tokenize(cat_text)"
      ],
      "metadata": {
        "id": "DoW7M5_QPl0a"
      },
      "execution_count": null,
      "outputs": []
    },
    {
      "cell_type": "code",
      "source": [
        "import random\n",
        "# define your data\n",
        "cat_sentences = [\n",
        "    \"apa itu pemasaran?\",\n",
        "    \"apa saja strategi pemasaran yang efektif?\",\n",
        "    \"bagaimana cara melakukan riset pasar?\",\n",
        "    \"bagaimana melakukan analisis pesaing?\",\n",
        "    \"bagaimana melakukan segmentasi pasar?\",\n",
        "    \"apa perbedaan antara pemasaran B2B dan B2C?\",\n",
        "    \"apa itu branding?\",\n",
        "    \n",
        "]\n",
        "\n",
        "# define your responses\n",
        "cat_responses = [\n",
        "    \"Pemasaran adalah suatu kegiatan untuk mempromosikan produk atau jasa ke target pasar\",\n",
        "    \"Beberapa strategi pemasaran yang efektif adalah content marketing, social media marketing, dan influencer marketing\",\n",
        "    \"Riset pasar dapat dilakukan dengan melakukan survey, wawancara, atau observasi langsung terhadap calon konsumen\",\n",
        "    \"Analisis pesaing dilakukan untuk mengetahui kekuatan dan kelemahan pesaing, serta untuk mempelajari strategi pemasaran yang efektif\",\n",
        "    \"Segmentasi pasar dilakukan untuk membagi target pasar menjadi beberapa segmen yang memiliki karakteristik dan kebutuhan yang sama\",\n",
        "    \"Pemasaran B2B dilakukan antara dua perusahaan, sedangkan pemasaran B2C dilakukan antara perusahaan dengan konsumen akhir\",\n",
        "    \"Branding adalah proses pembangunan dan mempromosikan merek agar dikenal oleh target pasar dan dapat membedakan produk dari pesaing\",\n",
        "]\n",
        "\n",
        "print(\"Hello, I am the pemasaran Chatbot. What is your question?\")\n",
        "while True:\n",
        "    # print multiple choice options\n",
        "    print(\"\\nChoose one of the following questions:\")\n",
        "    for i, question in enumerate(cat_sentences):\n",
        "        print(f\"{i+1}. {question}\")\n",
        "\n",
        "    # prompt user for input\n",
        "    user_input = input().lower()\n",
        "\n",
        "    # check if input is a valid option\n",
        "    if user_input.isdigit() and 1 <= int(user_input) <= len(cat_sentences):\n",
        "        # retrieve chatbot response based on option chosen\n",
        "        chatbot_response = cat_responses[int(user_input)-1]\n",
        "        print(f\"\\nCatbot: {chatbot_response}\")\n",
        "    elif user_input not in ['lanjunt', 'skip']:\n",
        "        # if input is not a valid option, generate random response\n",
        "        chatbot_response = random.choice(cat_responses)\n",
        "        print(f\"\\nCatbot: {chatbot_response}\")\n",
        "    else:\n",
        "        # end conversation\n",
        "        print(\"\\nCatbot: Goodbye!\")\n",
        "        break"
      ],
      "metadata": {
        "colab": {
          "base_uri": "https://localhost:8080/"
        },
        "id": "-OOnh2C4QSdI",
        "outputId": "f7a0407d-164f-4029-bb2c-a3cc4725c894"
      },
      "execution_count": null,
      "outputs": [
        {
          "output_type": "stream",
          "name": "stdout",
          "text": [
            "Hello, I am the pemasaran Chatbot. What is your question?\n",
            "\n",
            "Choose one of the following questions:\n",
            "1. apa itu pemasaran?\n",
            "2. apa saja strategi pemasaran yang efektif?\n",
            "3. bagaimana cara melakukan riset pasar?\n",
            "4. bagaimana melakukan analisis pesaing?\n",
            "5. bagaimana melakukan segmentasi pasar?\n",
            "6. apa perbedaan antara pemasaran B2B dan B2C?\n",
            "7. apa itu branding?\n",
            "1\n",
            "\n",
            "Catbot: Pemasaran adalah suatu kegiatan untuk mempromosikan produk atau jasa ke target pasar\n",
            "\n",
            "Choose one of the following questions:\n",
            "1. apa itu pemasaran?\n",
            "2. apa saja strategi pemasaran yang efektif?\n",
            "3. bagaimana cara melakukan riset pasar?\n",
            "4. bagaimana melakukan analisis pesaing?\n",
            "5. bagaimana melakukan segmentasi pasar?\n",
            "6. apa perbedaan antara pemasaran B2B dan B2C?\n",
            "7. apa itu branding?\n",
            "apa saja strategi pemasaran yang\n",
            "\n",
            "Catbot: Branding adalah proses pembangunan dan mempromosikan merek agar dikenal oleh target pasar dan dapat membedakan produk dari pesaing\n",
            "\n",
            "Choose one of the following questions:\n",
            "1. apa itu pemasaran?\n",
            "2. apa saja strategi pemasaran yang efektif?\n",
            "3. bagaimana cara melakukan riset pasar?\n",
            "4. bagaimana melakukan analisis pesaing?\n",
            "5. bagaimana melakukan segmentasi pasar?\n",
            "6. apa perbedaan antara pemasaran B2B dan B2C?\n",
            "7. apa itu branding?\n",
            "apa saja strategi pemasaran yang efektif?\n",
            "\n",
            "Catbot: Segmentasi pasar dilakukan untuk membagi target pasar menjadi beberapa segmen yang memiliki karakteristik dan kebutuhan yang sama\n",
            "\n",
            "Choose one of the following questions:\n",
            "1. apa itu pemasaran?\n",
            "2. apa saja strategi pemasaran yang efektif?\n",
            "3. bagaimana cara melakukan riset pasar?\n",
            "4. bagaimana melakukan analisis pesaing?\n",
            "5. bagaimana melakukan segmentasi pasar?\n",
            "6. apa perbedaan antara pemasaran B2B dan B2C?\n",
            "7. apa itu branding?\n",
            "skip\n",
            "\n",
            "Catbot: Goodbye!\n"
          ]
        }
      ]
    },
    {
      "cell_type": "code",
      "source": [
        "from sklearn.metrics.pairwise import cosine_similarity\n",
        "from sklearn.feature_extraction.text import TfidfVectorizer\n",
        "def chatbot_answer(user_query):\n",
        "    cat_s.append(user_query)\n",
        "    vectorizer = TfidfVectorizer()\n",
        "    sentences_vectors = vectorizer.fit_transform(cat_s)\n",
        "    vector_values = cosine_similarity(sentences_vectors[-1], sentences_vectors)\n",
        "    answer = cat_s[vector_values.argsort()[0][-2]]\n",
        "    input_check = vector_values.flatten()\n",
        "    input_check.sort()\n",
        "    \n",
        "    if input_check[-2] == 0:\n",
        "        return \"Please Try again\"\n",
        "    else: \n",
        "        return answer"
      ],
      "metadata": {
        "id": "lcJuvqxHyGJU"
      },
      "execution_count": null,
      "outputs": []
    },
    {
      "cell_type": "code",
      "source": [
        "print(\"Hello, I am the marketing Chatbot. What is your meow questions?:\")\n",
        "while(True):\n",
        "    query = input().lower()\n",
        "    if query not in ['bye', 'good bye', 'take care']:\n",
        "        print(\"  market Chatbot: \", end=\"\")\n",
        "        print(chatbot_answer(query))\n",
        "        cat_s.remove(query)\n",
        "    else:\n",
        "        print(\"See You Again\")\n",
        "        break"
      ],
      "metadata": {
        "colab": {
          "base_uri": "https://localhost:8080/"
        },
        "id": "yLrheeIWx7cD",
        "outputId": "0ecae4e2-928f-4370-eae3-0bdc71d62de4"
      },
      "execution_count": null,
      "outputs": [
        {
          "metadata": {
            "tags": null
          },
          "name": "stdout",
          "output_type": "stream",
          "text": [
            "Hello, I am the marketing Chatbot. What is your meow questions?:\n",
            "  market Chatbot: proses dalam pemenuhan kebutuhan dan keinginan manusia inilah yang menjadi konsep pemasaran.\n"
          ]
        }
      ]
    },
    {
      "cell_type": "code",
      "source": [
        "from pyknow import *\n",
        "\n",
        "class Customer(Fact):\n",
        "    age = Field(int)\n",
        "    gender = Field(str)\n",
        "    income = Field(int)\n",
        "\n",
        "class MarketingRule(Rule):\n",
        "    def __init__(self, condition, action):\n",
        "        Rule.__init__(self, condition, action)\n",
        "\n",
        "    def evaluate(self, *args, **kwargs):\n",
        "        result = super(MarketingRule, self).evaluate(*args, **kwargs)\n",
        "        if result:\n",
        "            self.action(*args, **kwargs)\n",
        "        return result\n",
        "\n",
        "class MarketingEngine(KnowledgeEngine):\n",
        "    @DefFacts()\n",
        "    def load_data(self):\n",
        "        # generate some random customer data for demonstration purposes\n",
        "        for i in range(10):\n",
        "            yield Customer(\n",
        "                age=random.randint(18, 65),\n",
        "                gender=random.choice(['male', 'female']),\n",
        "                income=random.randint(20000, 100000)\n",
        "            )\n",
        "\n",
        "    @Rule(Customer(age=P(lambda x: x > 30)))\n",
        "    def rule1(self):\n",
        "        print(\"Target customers over the age of 30\")\n",
        "\n",
        "    @Rule(Customer(gender='female'), NOT(Customer(age=P(lambda x: x > 30))))\n",
        "    def rule2(self):\n",
        "        print(\"Target female customers under the age of 30\")\n",
        "\n",
        "engine = MarketingEngine()\n",
        "engine.reset()\n",
        "engine.run()\n",
        "\n",
        "\n",
        "\n"
      ],
      "metadata": {
        "colab": {
          "base_uri": "https://localhost:8080/",
          "height": 393
        },
        "id": "h5m1jIThAzNc",
        "outputId": "4f6cc528-8e03-4f28-98fd-0cc658ffe718"
      },
      "execution_count": null,
      "outputs": [
        {
          "output_type": "error",
          "ename": "ModuleNotFoundError",
          "evalue": "ignored",
          "traceback": [
            "\u001b[0;31m---------------------------------------------------------------------------\u001b[0m",
            "\u001b[0;31mModuleNotFoundError\u001b[0m                       Traceback (most recent call last)",
            "\u001b[0;32m<ipython-input-2-2349f804aac3>\u001b[0m in \u001b[0;36m<cell line: 1>\u001b[0;34m()\u001b[0m\n\u001b[0;32m----> 1\u001b[0;31m \u001b[0;32mfrom\u001b[0m \u001b[0mpyknow\u001b[0m \u001b[0;32mimport\u001b[0m \u001b[0;34m*\u001b[0m\u001b[0;34m\u001b[0m\u001b[0;34m\u001b[0m\u001b[0m\n\u001b[0m\u001b[1;32m      2\u001b[0m \u001b[0;34m\u001b[0m\u001b[0m\n\u001b[1;32m      3\u001b[0m \u001b[0;32mclass\u001b[0m \u001b[0mCustomer\u001b[0m\u001b[0;34m(\u001b[0m\u001b[0mFact\u001b[0m\u001b[0;34m)\u001b[0m\u001b[0;34m:\u001b[0m\u001b[0;34m\u001b[0m\u001b[0;34m\u001b[0m\u001b[0m\n\u001b[1;32m      4\u001b[0m     \u001b[0mage\u001b[0m \u001b[0;34m=\u001b[0m \u001b[0mField\u001b[0m\u001b[0;34m(\u001b[0m\u001b[0mint\u001b[0m\u001b[0;34m)\u001b[0m\u001b[0;34m\u001b[0m\u001b[0;34m\u001b[0m\u001b[0m\n\u001b[1;32m      5\u001b[0m     \u001b[0mgender\u001b[0m \u001b[0;34m=\u001b[0m \u001b[0mField\u001b[0m\u001b[0;34m(\u001b[0m\u001b[0mstr\u001b[0m\u001b[0;34m)\u001b[0m\u001b[0;34m\u001b[0m\u001b[0;34m\u001b[0m\u001b[0m\n",
            "\u001b[0;31mModuleNotFoundError\u001b[0m: No module named 'pyknow'",
            "",
            "\u001b[0;31m---------------------------------------------------------------------------\u001b[0;32m\nNOTE: If your import is failing due to a missing package, you can\nmanually install dependencies using either !pip or !apt.\n\nTo view examples of installing some common dependencies, click the\n\"Open Examples\" button below.\n\u001b[0;31m---------------------------------------------------------------------------\u001b[0m\n"
          ],
          "errorDetails": {
            "actions": [
              {
                "action": "open_url",
                "actionText": "Open Examples",
                "url": "/notebooks/snippets/importing_libraries.ipynb"
              }
            ]
          }
        }
      ]
    }
  ]
}